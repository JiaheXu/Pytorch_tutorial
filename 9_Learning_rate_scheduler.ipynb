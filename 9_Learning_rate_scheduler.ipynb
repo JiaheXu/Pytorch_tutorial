{
 "cells": [
  {
   "cell_type": "code",
   "execution_count": 1,
   "id": "ef1a52df",
   "metadata": {},
   "outputs": [],
   "source": [
    "import torch\n",
    "import torch.nn as nn  # All neural network modules, nn.Linear, nn.Conv2d, BatchNorm, Loss functions\n",
    "import torch.optim as optim  # For all Optimization algorithms, SGD, Adam, etc.\n",
    "from torch.utils.data import (\n",
    "    DataLoader,\n",
    ")  # Gives easier dataset managment and creates mini batches\n",
    "import torchvision.datasets as datasets  # Has standard datasets we can import in a nice way\n",
    "import torchvision.transforms as transforms  # Transformations we can perform on our dataset"
   ]
  },
  {
   "cell_type": "code",
   "execution_count": 2,
   "id": "d1c64406",
   "metadata": {},
   "outputs": [],
   "source": [
    "# Set device\n",
    "device = torch.device(\"cuda\" if torch.cuda.is_available() else \"cpu\")\n",
    "\n",
    "# Hyperparameters\n",
    "num_classes = 10\n",
    "learning_rate = 0.1\n",
    "batch_size = 128\n",
    "num_epochs = 10\n",
    "# Define a very simple model\n",
    "model = nn.Sequential(nn.Linear(784, 50), nn.ReLU(), nn.Linear(50, 10)).to(device)"
   ]
  },
  {
   "cell_type": "code",
   "execution_count": 3,
   "id": "f2b9efad",
   "metadata": {},
   "outputs": [],
   "source": [
    "# Load Data\n",
    "train_dataset = datasets.MNIST(\n",
    "    root=\"dataset/\", train=True, transform=transforms.ToTensor(), download=True\n",
    ")\n",
    "train_loader = DataLoader(dataset=train_dataset, batch_size=batch_size, shuffle=True)\n",
    "\n",
    "# Loss and optimizer\n",
    "criterion = nn.CrossEntropyLoss()\n",
    "optimizer = optim.Adam(model.parameters(), lr=learning_rate)"
   ]
  },
  {
   "cell_type": "markdown",
   "id": "df021d8c",
   "metadata": {},
   "source": [
    "# using torch.optim.lr_scheduler to change lr rate in training progress"
   ]
  },
  {
   "cell_type": "code",
   "execution_count": 4,
   "id": "dd0d0786",
   "metadata": {},
   "outputs": [],
   "source": [
    "##############################################################################\n",
    "# Define Scheduler\n",
    "##############################################################################\n",
    "scheduler = torch.optim.lr_scheduler.ReduceLROnPlateau(\n",
    "    optimizer, factor=0.1, patience=5, verbose=True\n",
    ")"
   ]
  },
  {
   "cell_type": "markdown",
   "id": "962c773c",
   "metadata": {},
   "source": [
    "# scheduler.step(mean_loss) Reduce learning rate when a metric has stopped improving.\n",
    "# for more detail: https://pytorch.org/docs/stable/optim.html?highlight=reducelronplateau#torch.optim.lr_scheduler.ReduceLROnPlateau"
   ]
  },
  {
   "cell_type": "code",
   "execution_count": null,
   "id": "5e2fe93b",
   "metadata": {},
   "outputs": [
    {
     "name": "stdout",
     "output_type": "stream",
     "text": [
      "Cost at epoch 1 is 0.8224168917390583\n"
     ]
    }
   ],
   "source": [
    "# Train Network\n",
    "for epoch in range(1, num_epochs):\n",
    "    losses = []\n",
    "\n",
    "    for batch_idx, (data, targets) in enumerate(train_loader):\n",
    "        # Get data to cuda if possible\n",
    "        data = data.reshape(data.shape[0], -1)\n",
    "        data = data.to(device=device)\n",
    "        targets = targets.to(device=device)\n",
    "\n",
    "        # forward\n",
    "        scores = model(data)\n",
    "        loss = criterion(scores, targets)\n",
    "\n",
    "        losses.append(loss.item())\n",
    "\n",
    "        # backward\n",
    "        loss.backward()\n",
    "\n",
    "        # gradient descent or adam step\n",
    "        # scheduler.step(loss)\n",
    "        optimizer.step()\n",
    "        optimizer.zero_grad()\n",
    "\n",
    "    mean_loss = sum(losses) / len(losses)\n",
    "##############################################################################\n",
    "    # After each epoch do scheduler.step, note in this scheduler we need to send\n",
    "    # in loss for that epoch!\n",
    "    scheduler.step(mean_loss)\n",
    "##############################################################################\n",
    "    print(f\"Cost at epoch {epoch} is {mean_loss}\")"
   ]
  },
  {
   "cell_type": "code",
   "execution_count": null,
   "id": "48bd69e1",
   "metadata": {},
   "outputs": [],
   "source": []
  }
 ],
 "metadata": {
  "kernelspec": {
   "display_name": "Python 3",
   "language": "python",
   "name": "python3"
  },
  "language_info": {
   "codemirror_mode": {
    "name": "ipython",
    "version": 3
   },
   "file_extension": ".py",
   "mimetype": "text/x-python",
   "name": "python",
   "nbconvert_exporter": "python",
   "pygments_lexer": "ipython3",
   "version": "3.8.5"
  }
 },
 "nbformat": 4,
 "nbformat_minor": 5
}
