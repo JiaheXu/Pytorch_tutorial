{
 "cells": [
  {
   "cell_type": "code",
   "execution_count": 1,
   "metadata": {},
   "outputs": [],
   "source": [
    "import torch\n",
    "import torchvision \n",
    "import torch.nn.functional as F  \n",
    "\n",
    "import torchvision.transforms as transforms\n",
    "from torch import optim  # For optimizers SGD, Adam, etc.\n",
    "from torch import nn  # All neural network modules\n",
    "from torch.utils.data import DataLoader\n",
    "from tqdm import tqdm # For nice progress bar!"
   ]
  },
  {
   "cell_type": "code",
   "execution_count": 2,
   "metadata": {},
   "outputs": [],
   "source": [
    "target_device = torch.device('cuda' if torch.cuda.is_available() else 'cpu')"
   ]
  },
  {
   "cell_type": "code",
   "execution_count": 3,
   "metadata": {},
   "outputs": [],
   "source": [
    "import pandas as pd"
   ]
  },
  {
   "cell_type": "code",
   "execution_count": 4,
   "metadata": {},
   "outputs": [],
   "source": [
    "import os"
   ]
  },
  {
   "cell_type": "code",
   "execution_count": 6,
   "metadata": {},
   "outputs": [],
   "source": [
    "import matplotlib.pyplot as plt\n",
    "import numpy as np\n",
    "import cv2 # pip install opencv-python"
   ]
  },
  {
   "cell_type": "markdown",
   "metadata": {},
   "source": [
    "# Normally, we put pictures in a dir\n",
    "# And we have a file that contains img_name and # label or etc info, easier and more efficient to load data"
   ]
  },
  {
   "cell_type": "code",
   "execution_count": 7,
   "metadata": {},
   "outputs": [],
   "source": [
    "### root_dir saves the dir of pictures\n",
    "### csv_file saves the file dir of imgs(name) and labels\n",
    "### transform is a function, sometimes we use it for data augmentation \n",
    "### or normalization(std mean....)\n",
    "from torch.utils.data import Dataset\n",
    "from torch.utils.data import DataLoader \n",
    "##success from Dataset\n",
    "class my_dataset(Dataset):\n",
    "    def __init__(self, csv_file, root_dir, transform):\n",
    "        self.annotations = pd.read_csv(csv_file)\n",
    "        self.root_dir = root_dir\n",
    "        self.transform = transform\n",
    "    #def __init__(self , csv_file , root_dir , transform=None):\n",
    "    #    ### annotation is a map from img name to label\n",
    "    #    self.annotations = pd.read_csv(csv_file)\n",
    "    #    ##self.length = len(self.annotations)\n",
    "        \n",
    "        self.root_dir = root_dir\n",
    "        self.transform = transform\n",
    "    \n",
    "    ##define len(self.annotations)\n",
    "    def __len__(self):\n",
    "        return len(self.annotations) \n",
    "    \n",
    "    def __getitem__(self, index):\n",
    "        ### index is the idex of pictures\n",
    "        ### !!!! .iloc[] is a function in panda \n",
    "        img_path = os.path.join(self.root_dir ,self.annotations.iloc[index, 0] )\n",
    "        image = cv2.imread(img_path)\n",
    "        y_label = torch.tensor(int(self.annotations.iloc[index, 1]))\n",
    "        \n",
    "        ### in this code, this just put img to tensor, more usage to be continued.\n",
    "        if self.transform:\n",
    "            image = self.transform(image)\n",
    "\n",
    "        return (image, y_label)\n",
    "    \n",
    "dataset = my_dataset(\n",
    "csv_file=\"cats_dogs.csv\",\n",
    "root_dir=\"cats_dogs_resized\",\n",
    "transform=transforms.ToTensor()\n",
    ")"
   ]
  },
  {
   "cell_type": "code",
   "execution_count": 8,
   "metadata": {},
   "outputs": [],
   "source": [
    "# Hyperparameters\n",
    "in_channel = 3\n",
    "num_classes = 2\n",
    "learning_rate = 1e-3\n",
    "batch_size = 32\n",
    "num_epochs = 10"
   ]
  },
  {
   "cell_type": "code",
   "execution_count": 9,
   "metadata": {},
   "outputs": [
    {
     "name": "stdout",
     "output_type": "stream",
     "text": [
      "Cost at epoch 0 is 7.773490905761719\n",
      "Cost at epoch 1 is 4.837826728820801\n",
      "Cost at epoch 2 is 2.6733341217041016\n",
      "Cost at epoch 3 is 1.199251651763916\n",
      "Cost at epoch 4 is 0.8784807324409485\n",
      "Cost at epoch 5 is 0.12971068918704987\n",
      "Cost at epoch 6 is 0.0762890875339508\n",
      "Cost at epoch 7 is 0.06263137608766556\n",
      "Cost at epoch 8 is 0.03211470693349838\n",
      "Cost at epoch 9 is 0.020281733945012093\n",
      "Checking accuracy on Training Set\n",
      "Got 5 / 5 with accuracy 100.00\n",
      "Checking accuracy on Test Set\n",
      "Got 3 / 5 with accuracy 60.00\n"
     ]
    }
   ],
   "source": [
    "# Dataset is actually a lot larger ~25k images, just took out 10 pictures\n",
    "# to upload to Github. It's enough to understand the structure and scale\n",
    "# if you got more images.\n",
    "train_set, test_set = torch.utils.data.random_split(dataset, [5, 5])\n",
    "train_loader = DataLoader(dataset=train_set, batch_size=batch_size, shuffle=True)\n",
    "test_loader = DataLoader(dataset=test_set, batch_size=batch_size, shuffle=True)\n",
    "\n",
    "# Model\n",
    "model = torchvision.models.googlenet(pretrained=True)\n",
    "model.to(target_device)\n",
    "\n",
    "# Loss and optimizer\n",
    "criterion = nn.CrossEntropyLoss()\n",
    "optimizer = optim.Adam(model.parameters(), lr=learning_rate)\n",
    "\n",
    "# Train Network\n",
    "for epoch in range(num_epochs):\n",
    "    losses = []\n",
    "\n",
    "    for batch_idx, (data, targets) in enumerate(train_loader):\n",
    "        # Get data to cuda if possible\n",
    "        data = data.to(device=target_device)\n",
    "        targets = targets.to(device=target_device)\n",
    "\n",
    "        # forward\n",
    "        scores = model(data)\n",
    "        loss = criterion(scores, targets)\n",
    "\n",
    "        losses.append(loss.item())\n",
    "\n",
    "        # backward\n",
    "        optimizer.zero_grad()\n",
    "        loss.backward()\n",
    "\n",
    "        # gradient descent or adam step\n",
    "        optimizer.step()\n",
    "\n",
    "    print(f\"Cost at epoch {epoch} is {sum(losses)/len(losses)}\")\n",
    "\n",
    "# Check accuracy on training to see how good our model is\n",
    "def check_accuracy(loader, model):\n",
    "    num_correct = 0\n",
    "    num_samples = 0\n",
    "    model.eval()\n",
    "\n",
    "    with torch.no_grad():\n",
    "        for x, y in loader:\n",
    "            x = x.to(device=target_device)\n",
    "            y = y.to(device=target_device)\n",
    "\n",
    "            scores = model(x)\n",
    "            _, predictions = scores.max(1)\n",
    "            num_correct += (predictions == y).sum()\n",
    "            num_samples += predictions.size(0)\n",
    "\n",
    "        print(\n",
    "            f\"Got {num_correct} / {num_samples} with accuracy {float(num_correct)/float(num_samples)*100:.2f}\"\n",
    "        )\n",
    "\n",
    "    model.train()\n",
    "\n",
    "\n",
    "print(\"Checking accuracy on Training Set\")\n",
    "check_accuracy(train_loader, model)\n",
    "\n",
    "print(\"Checking accuracy on Test Set\")\n",
    "check_accuracy(test_loader, model)"
   ]
  },
  {
   "cell_type": "code",
   "execution_count": null,
   "metadata": {},
   "outputs": [],
   "source": []
  }
 ],
 "metadata": {
  "kernelspec": {
   "display_name": "Python 3",
   "language": "python",
   "name": "python3"
  },
  "language_info": {
   "codemirror_mode": {
    "name": "ipython",
    "version": 3
   },
   "file_extension": ".py",
   "mimetype": "text/x-python",
   "name": "python",
   "nbconvert_exporter": "python",
   "pygments_lexer": "ipython3",
   "version": "3.8.5"
  }
 },
 "nbformat": 4,
 "nbformat_minor": 4
}
