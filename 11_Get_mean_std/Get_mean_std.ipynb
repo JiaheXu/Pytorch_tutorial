{
 "cells": [
  {
   "cell_type": "code",
   "execution_count": 4,
   "id": "611260fb",
   "metadata": {},
   "outputs": [],
   "source": [
    "import torch\n",
    "import numpy as np\n",
    "import cv2\n",
    "from PIL import Image\n",
    "import torch.nn as nn\n",
    "from torch.utils.data import Dataset\n",
    "import os\n",
    "from matplotlib import pyplot as plt"
   ]
  },
  {
   "cell_type": "code",
   "execution_count": 5,
   "id": "ff420f13",
   "metadata": {},
   "outputs": [],
   "source": [
    "data = []\n",
    "root_dir = \"cat_dogs\"\n",
    "class_names = os.listdir(root_dir)\n",
    "means = [0,0,0]\n",
    "std = [0,0,0]\n",
    "for index, name in enumerate(class_names):\n",
    "    files = os.listdir(os.path.join(root_dir, name))\n",
    "    data += list(zip(files, [index]*len(files)))"
   ]
  },
  {
   "cell_type": "code",
   "execution_count": 6,
   "id": "57009a6f",
   "metadata": {},
   "outputs": [],
   "source": [
    "for ( img_file , label ) in data:\n",
    "    root_and_dir = os.path.join(root_dir, class_names[label])\n",
    "    img = np.array(Image.open(os.path.join(root_and_dir, img_file)))\n",
    "    \n",
    "    for i in range(3):\n",
    "            # 计算每一个通道的均值和标准差\n",
    "            means[i] += img[i, :, :].mean()/255.0\n",
    "            std[i] += img[i, :, :].std()/255.0"
   ]
  },
  {
   "cell_type": "code",
   "execution_count": 7,
   "id": "b6253474",
   "metadata": {},
   "outputs": [],
   "source": [
    "num_imgs = len(data)\n",
    "means = np.asarray(means) / num_imgs\n",
    "std = np.asarray(std) /num_imgs"
   ]
  },
  {
   "cell_type": "code",
   "execution_count": 8,
   "id": "375a336b",
   "metadata": {},
   "outputs": [
    {
     "data": {
      "text/plain": [
       "array([0.45835798, 0.4634169 , 0.48134354])"
      ]
     },
     "execution_count": 8,
     "metadata": {},
     "output_type": "execute_result"
    }
   ],
   "source": [
    "means"
   ]
  },
  {
   "cell_type": "code",
   "execution_count": 9,
   "id": "807515b9",
   "metadata": {},
   "outputs": [
    {
     "data": {
      "text/plain": [
       "array([0.17452399, 0.177378  , 0.18812878])"
      ]
     },
     "execution_count": 9,
     "metadata": {},
     "output_type": "execute_result"
    }
   ],
   "source": [
    "std"
   ]
  },
  {
   "cell_type": "code",
   "execution_count": null,
   "id": "216022b5",
   "metadata": {},
   "outputs": [],
   "source": [
    " plt.imshow(img)"
   ]
  },
  {
   "cell_type": "code",
   "execution_count": null,
   "id": "9e09188b",
   "metadata": {},
   "outputs": [],
   "source": []
  }
 ],
 "metadata": {
  "kernelspec": {
   "display_name": "Python 3",
   "language": "python",
   "name": "python3"
  },
  "language_info": {
   "codemirror_mode": {
    "name": "ipython",
    "version": 3
   },
   "file_extension": ".py",
   "mimetype": "text/x-python",
   "name": "python",
   "nbconvert_exporter": "python",
   "pygments_lexer": "ipython3",
   "version": "3.8.5"
  }
 },
 "nbformat": 4,
 "nbformat_minor": 5
}
