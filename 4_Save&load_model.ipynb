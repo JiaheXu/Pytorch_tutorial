{
 "cells": [
  {
   "cell_type": "code",
   "execution_count": 1,
   "metadata": {},
   "outputs": [],
   "source": [
    "import torch\n",
    "import torchvision \n",
    "import torch.nn.functional as F  \n",
    "import torchvision.datasets as datasets  # Standard datasets\n",
    "import torchvision.transforms as transforms\n",
    "from torch import optim  # For optimizers SGD, Adam, etc.\n",
    "from torch import nn  # All neural network modules\n",
    "from torch.utils.data import DataLoader\n",
    "from tqdm import tqdm # For nice progress bar!"
   ]
  },
  {
   "cell_type": "markdown",
   "metadata": {},
   "source": [
    "build a simple convolutional neural network"
   ]
  },
  {
   "cell_type": "code",
   "execution_count": 2,
   "metadata": {},
   "outputs": [],
   "source": [
    "class CNN(nn.Module):\n",
    "    def __init__(self , in_channels = 1 , num_classes = 10 ):\n",
    "        super(CNN, self).__init__()\n",
    "        self.conv1 = nn.Conv2d(\n",
    "            in_channels = in_channels,\n",
    "            out_channels = 8 ,\n",
    "            kernel_size = (3,3),\n",
    "            stride = (1,1),\n",
    "            padding = (1,1)\n",
    "        )\n",
    "        \n",
    "        self.pool = nn.MaxPool2d(\n",
    "            kernel_size=(2, 2), \n",
    "            stride=(2, 2)\n",
    "        )\n",
    "        \n",
    "        self.conv2 = nn.Conv2d(\n",
    "            in_channels=8,\n",
    "            out_channels=16,\n",
    "            kernel_size=(3, 3),\n",
    "            stride=(1, 1),\n",
    "            padding=(1, 1),\n",
    "        )\n",
    "        self.fc = nn.Linear(16 * 7 * 7, num_classes)\n",
    "    def forward(self , x ):\n",
    "        x = self.conv1(x)\n",
    "        x = F.relu(x)\n",
    "        x = self.pool(x)\n",
    "        \n",
    "        x = self.conv2(x)\n",
    "        x = F.relu(x)\n",
    "        x = self.pool(x)       \n",
    "        ### reshape in forward process\n",
    "        x = x.reshape(x.shape[0], -1)\n",
    "        \n",
    "        x = self.fc(x)\n",
    "        return x"
   ]
  },
  {
   "cell_type": "markdown",
   "metadata": {},
   "source": [
    "# Save and Load model"
   ]
  },
  {
   "cell_type": "code",
   "execution_count": 3,
   "metadata": {},
   "outputs": [],
   "source": [
    "def save_checkpoint(state , filename = 'my_checkpoint.pth'): # default name\n",
    "    print(\"===> Saving checkpoint\")\n",
    "    torch.save(state , filename)\n",
    "\n",
    "def load_checkpoint(checkpoint, model , optimizer): # default name\n",
    "    print(\"===> Loading checkpoint\")\n",
    "    model.load_state_dict(checkpoint[\"state_dict\"])\n",
    "    optimizer.load_state_dict(checkpoint[\"optimizer\"])\n",
    "    print(checkpoint[\"epoch\"])"
   ]
  },
  {
   "cell_type": "markdown",
   "metadata": {},
   "source": [
    "set device"
   ]
  },
  {
   "cell_type": "code",
   "execution_count": 4,
   "metadata": {},
   "outputs": [],
   "source": [
    "target_device = torch.device('cuda' if torch.cuda.is_available() else 'cpu')"
   ]
  },
  {
   "cell_type": "markdown",
   "metadata": {},
   "source": [
    "Hyperparameter"
   ]
  },
  {
   "cell_type": "code",
   "execution_count": 5,
   "metadata": {},
   "outputs": [],
   "source": [
    "in_channels = 1\n",
    "input_size = 784\n",
    "num_classes = 10\n",
    "learning_rate = 1e-3\n",
    "batch_size = 64\n",
    "num_epochs = 3\n",
    "\n"
   ]
  },
  {
   "cell_type": "markdown",
   "metadata": {},
   "source": [
    "Load Training and Test data. Usually need to write dataloaber ourselves."
   ]
  },
  {
   "cell_type": "code",
   "execution_count": 6,
   "metadata": {},
   "outputs": [],
   "source": [
    "\n",
    "test_dataset = datasets.MNIST(root=\"dataset/\", train=False, transform=transforms.ToTensor(), download=False)\n",
    "train_dataset = datasets.MNIST(root=\"dataset/\", train=True, transform=transforms.ToTensor(), download=False)\n",
    "train_loader = DataLoader(dataset=train_dataset, batch_size=batch_size, shuffle=True)\n",
    "test_loader = DataLoader(dataset=test_dataset, batch_size=batch_size, shuffle=True)"
   ]
  },
  {
   "cell_type": "code",
   "execution_count": 7,
   "metadata": {},
   "outputs": [],
   "source": [
    "# Initialize network"
   ]
  },
  {
   "cell_type": "code",
   "execution_count": 8,
   "metadata": {},
   "outputs": [],
   "source": [
    "model = CNN(in_channels=in_channels , num_classes=num_classes).to(target_device)"
   ]
  },
  {
   "cell_type": "code",
   "execution_count": 9,
   "metadata": {},
   "outputs": [],
   "source": [
    "# Loss and optimizer"
   ]
  },
  {
   "cell_type": "code",
   "execution_count": 10,
   "metadata": {},
   "outputs": [],
   "source": [
    "loss_func = nn.CrossEntropyLoss()\n",
    "optimizer = optim.Adam(model.parameters(), lr=learning_rate)"
   ]
  },
  {
   "cell_type": "markdown",
   "metadata": {},
   "source": [
    "Train the Network"
   ]
  },
  {
   "cell_type": "code",
   "execution_count": 11,
   "metadata": {},
   "outputs": [],
   "source": [
    "##########################################\n",
    "load_model = True\n",
    "##########################################\n",
    "if load_model == True:\n",
    "    load_checkpoint(torch.load(\"my_checkpoint.pth\"), model, optimizer)"
   ]
  },
  {
   "cell_type": "code",
   "execution_count": 12,
   "metadata": {},
   "outputs": [],
   "source": [
    "def check_accuracy(loader, model):\n",
    "    num_correct = 0\n",
    "    num_samples = 0\n",
    "    model.eval()\n",
    "\n",
    "    with torch.no_grad():\n",
    "        for x, y in loader:\n",
    "            x = x.to(device=target_device)\n",
    "            y = y.to(device=target_device)\n",
    "\n",
    "            scores = model(x)\n",
    "            _, predictions = scores.max(1)\n",
    "            num_correct += (predictions == y).sum()\n",
    "            num_samples += predictions.size(0)\n",
    "\n",
    "    model.train()\n",
    "    return num_correct/num_samples\n",
    "\n",
    "\n"
   ]
  },
  {
   "cell_type": "code",
   "execution_count": 13,
   "metadata": {},
   "outputs": [
    {
     "name": "stderr",
     "output_type": "stream",
     "text": [
      "\r",
      "  0%|                                                                                          | 0/938 [00:00<?, ?it/s]"
     ]
    },
    {
     "name": "stdout",
     "output_type": "stream",
     "text": [
      "===> Saving checkpoint\n"
     ]
    },
    {
     "name": "stderr",
     "output_type": "stream",
     "text": [
      "100%|███████████████████████████████████████████████████████████████████████████████| 938/938 [00:08<00:00, 105.29it/s]\n",
      "  1%|█                                                                               | 13/938 [00:00<00:08, 115.23it/s]"
     ]
    },
    {
     "name": "stdout",
     "output_type": "stream",
     "text": [
      "===> Saving checkpoint\n"
     ]
    },
    {
     "name": "stderr",
     "output_type": "stream",
     "text": [
      "100%|███████████████████████████████████████████████████████████████████████████████| 938/938 [00:08<00:00, 117.16it/s]\n",
      "  1%|█                                                                               | 12/938 [00:00<00:07, 119.60it/s]"
     ]
    },
    {
     "name": "stdout",
     "output_type": "stream",
     "text": [
      "===> Saving checkpoint\n"
     ]
    },
    {
     "name": "stderr",
     "output_type": "stream",
     "text": [
      "100%|███████████████████████████████████████████████████████████████████████████████| 938/938 [00:07<00:00, 119.80it/s]\n"
     ]
    }
   ],
   "source": [
    "for epoch in range(num_epochs):\n",
    "    if(epoch % 1 == 0):\n",
    "        ### checkpoint is a dictionary don't forget () after dict()!!!!!!!!!!!!!!!!!!!!!\n",
    "        ### using .state_dict() is recommended\n",
    "        checkpoint = {\"state_dict\":model.state_dict() , \"optimizer\":optimizer.state_dict() , 'epoch':epoch}\n",
    "\n",
    "        save_checkpoint(checkpoint)\n",
    "        \n",
    "    for batch_idx , ( data, targets ) in enumerate( tqdm( train_loader ) ):\n",
    "        # Get data to cuda if possible\n",
    "        data = data.to( device = target_device )\n",
    "        targets = targets.to( device = target_device )\n",
    "\n",
    "        # Get to correct shape\n",
    "        # data.shape[0] usually is the number of examples in a batch\n",
    "        # in this case, just set each sample to a long bar\n",
    "        # data = data.reshape(data.shape[0], -1) this is done before fully connected layer\n",
    "        # not in CNN\n",
    "\n",
    "        # forward\n",
    "        predictions = model(data)\n",
    "        #targets are true labels\n",
    "        loss = loss_func(predictions , targets)\n",
    "\n",
    "        # backward\n",
    "        optimizer.zero_grad() # set the gradients to zero, so that we are ready for the next loop\n",
    "        loss.backward()\n",
    "\n",
    "        # gradient descent or adam step\n",
    "        optimizer.step()\n",
    "        \n",
    "        # usually we don't do this, here just for illustration\n",
    "#print(f\"Accuracy on training set: {check_accuracy(train_loader, model)*100:.2f}\")\n",
    "#print(f\"Accuracy on test set: {check_accuracy(test_loader, model)*100:.2f}\")"
   ]
  },
  {
   "cell_type": "code",
   "execution_count": null,
   "metadata": {},
   "outputs": [],
   "source": []
  }
 ],
 "metadata": {
  "kernelspec": {
   "display_name": "Python 3",
   "language": "python",
   "name": "python3"
  },
  "language_info": {
   "codemirror_mode": {
    "name": "ipython",
    "version": 3
   },
   "file_extension": ".py",
   "mimetype": "text/x-python",
   "name": "python",
   "nbconvert_exporter": "python",
   "pygments_lexer": "ipython3",
   "version": "3.8.5"
  }
 },
 "nbformat": 4,
 "nbformat_minor": 4
}
