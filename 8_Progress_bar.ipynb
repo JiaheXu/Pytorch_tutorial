{
 "cells": [
  {
   "cell_type": "code",
   "execution_count": 1,
   "id": "1b2eb301",
   "metadata": {},
   "outputs": [],
   "source": [
    "import torch\n",
    "import torch.nn as nn\n",
    "from tqdm import tqdm\n",
    "from torch.utils.data import TensorDataset, DataLoader"
   ]
  },
  {
   "cell_type": "code",
   "execution_count": 2,
   "id": "6084f688",
   "metadata": {},
   "outputs": [],
   "source": [
    "# Create a simple toy dataset example, normally this\n",
    "# would be doing custom class with __getitem__ etc,\n",
    "# which we have done in custom dataset tutorials\n",
    "x = torch.randn((1000, 3, 224, 224))\n",
    "y = torch.randint(low=0, high=10, size=(1000, 1))\n",
    "ds = TensorDataset(x, y)\n",
    "loader = DataLoader(ds, batch_size=8)\n",
    "\n",
    "\n",
    "model = nn.Sequential(\n",
    "    nn.Conv2d(3, 10, kernel_size=3, padding=1, stride=1),\n",
    "    nn.Flatten(),\n",
    "    nn.Linear(10*224*224, 10),\n",
    ")\n",
    "\n"
   ]
  },
  {
   "cell_type": "code",
   "execution_count": null,
   "id": "3f27b412",
   "metadata": {},
   "outputs": [
    {
     "name": "stderr",
     "output_type": "stream",
     "text": [
      "Epoch [0/5]: 100%|█████████████████████████████████████████████| 125/125 [00:03<00:00, 35.40it/s, acc=0.209, loss=0.71]\n",
      "Epoch [1/5]: 100%|███████████████████████████████████████████| 125/125 [00:03<00:00, 35.56it/s, acc=0.813, loss=0.0881]\n",
      "Epoch [2/5]: 100%|████████████████████████████████████████████| 125/125 [00:03<00:00, 35.23it/s, acc=0.615, loss=0.728]\n",
      "Epoch [3/5]:  29%|████████████▉                                | 36/125 [00:01<00:02, 33.36it/s, acc=0.564, loss=0.197]"
     ]
    }
   ],
   "source": [
    "NUM_EPOCHS = 5\n",
    "for epoch in range(NUM_EPOCHS):\n",
    "    loop = tqdm(loader)\n",
    "    for idx, (x, y) in enumerate(loop):\n",
    "        scores = model(x)\n",
    "\n",
    "        # here we would compute loss, backward, optimizer step etc.\n",
    "        # you know how it goes, but now you have a nice progress bar\n",
    "        # with tqdm\n",
    "\n",
    "        # then at the bottom if you want additional info shown, you can\n",
    "        # add it here, for loss and accuracy you would obviously compute\n",
    "        # but now we just set them to random values\n",
    "        loop.set_description(f\"Epoch [{epoch}/{NUM_EPOCHS}]\")\n",
    "        loop.set_postfix(loss=torch.rand(1).item(), acc=torch.rand(1).item())\n",
    "\n",
    "# There you go. Hope it was useful :)"
   ]
  },
  {
   "cell_type": "code",
   "execution_count": null,
   "id": "930760f3",
   "metadata": {},
   "outputs": [],
   "source": []
  }
 ],
 "metadata": {
  "kernelspec": {
   "display_name": "Python 3",
   "language": "python",
   "name": "python3"
  },
  "language_info": {
   "codemirror_mode": {
    "name": "ipython",
    "version": 3
   },
   "file_extension": ".py",
   "mimetype": "text/x-python",
   "name": "python",
   "nbconvert_exporter": "python",
   "pygments_lexer": "ipython3",
   "version": "3.8.5"
  }
 },
 "nbformat": 4,
 "nbformat_minor": 5
}
